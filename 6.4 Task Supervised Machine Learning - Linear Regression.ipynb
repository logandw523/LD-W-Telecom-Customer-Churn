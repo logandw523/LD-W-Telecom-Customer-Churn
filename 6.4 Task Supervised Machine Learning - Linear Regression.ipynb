{
 "cells": [
  {
   "cell_type": "markdown",
   "id": "a809186a",
   "metadata": {},
   "source": [
    "# Summary\n",
    "\n",
    "#### 1. Importing libraries and data\n",
    "\n",
    "#### 2. Data prep for regression analysis\n",
    "\n",
    "#### 3. Regression analysis"
   ]
  },
  {
   "cell_type": "markdown",
   "id": "7f34c296",
   "metadata": {},
   "source": [
    "# 1. Importing libraries and date"
   ]
  },
  {
   "cell_type": "code",
   "execution_count": 1,
   "id": "eeba7762",
   "metadata": {},
   "outputs": [],
   "source": [
    "#Importing libraries\n",
    "import pandas as pd\n",
    "import numpy as np\n",
    "import os\n",
    "import seaborn as sns\n",
    "import matplotlib\n",
    "import matplotlib.pyplot as plt\n",
    "\n",
    "import sklearn\n",
    "from sklearn.model_selection import train_test_split\n",
    "from sklearn.linear_model import LinearRegression\n",
    "from sklearn.metrics import mean_squared_error, r2_score"
   ]
  },
  {
   "cell_type": "code",
   "execution_count": 2,
   "id": "80b81e4a",
   "metadata": {},
   "outputs": [],
   "source": [
    "# Import data\n",
    "path = r'C:\\Users\\Logan\\OneDrive\\Desktop\\Data Immersion\\Achievement 6_Advanced Analytics and Dashboard Design'\n",
    "\n",
    "df = pd.read_csv(os.path.join(path, '02 Data','Prepared Data','6.1 Task - Source Open Data.csv'))"
   ]
  },
  {
   "cell_type": "code",
   "execution_count": 3,
   "id": "00642aab",
   "metadata": {},
   "outputs": [
    {
     "data": {
      "text/plain": [
       "(7043, 41)"
      ]
     },
     "execution_count": 3,
     "metadata": {},
     "output_type": "execute_result"
    }
   ],
   "source": [
    "df.shape"
   ]
  },
  {
   "cell_type": "code",
   "execution_count": 4,
   "id": "2314c08b",
   "metadata": {},
   "outputs": [
    {
     "name": "stdout",
     "output_type": "stream",
     "text": [
      "# of Rows: 7043 / # of Columns: 41\n",
      "Columns are: ['Unnamed: 0', 'Customer ID', 'Gender', 'Age', 'Married', 'Number of Dependents', 'City', 'Zip Code', 'Latitude', 'Longitude', 'Number of Referrals', 'Tenure in Months', 'Offer', 'Phone Service', 'Avg Monthly Long Distance Charges', 'Multiple Lines', 'Internet Service', 'Internet Type', 'Avg Monthly GB Download', 'Online Security', 'Online Backup', 'Device Protection Plan', 'Premium Tech Support', 'Streaming TV', 'Streaming Movies', 'Streaming Music', 'Unlimited Data', 'Contract', 'Paperless Billing', 'Payment Method', 'Monthly Charge', 'Total Charges', 'Total Refunds', 'Total Extra Data Charges', 'Total Long Distance Charges', 'Total Revenue', 'Customer Status', 'Churn Category', 'Churn Reason', 'State', 'Country']\n"
     ]
    },
    {
     "data": {
      "text/html": [
       "<div>\n",
       "<style scoped>\n",
       "    .dataframe tbody tr th:only-of-type {\n",
       "        vertical-align: middle;\n",
       "    }\n",
       "\n",
       "    .dataframe tbody tr th {\n",
       "        vertical-align: top;\n",
       "    }\n",
       "\n",
       "    .dataframe thead th {\n",
       "        text-align: right;\n",
       "    }\n",
       "</style>\n",
       "<table border=\"1\" class=\"dataframe\">\n",
       "  <thead>\n",
       "    <tr style=\"text-align: right;\">\n",
       "      <th></th>\n",
       "      <th>Unnamed: 0</th>\n",
       "      <th>Customer ID</th>\n",
       "      <th>Gender</th>\n",
       "      <th>Age</th>\n",
       "      <th>Married</th>\n",
       "      <th>Number of Dependents</th>\n",
       "      <th>City</th>\n",
       "      <th>Zip Code</th>\n",
       "      <th>Latitude</th>\n",
       "      <th>Longitude</th>\n",
       "      <th>...</th>\n",
       "      <th>Total Charges</th>\n",
       "      <th>Total Refunds</th>\n",
       "      <th>Total Extra Data Charges</th>\n",
       "      <th>Total Long Distance Charges</th>\n",
       "      <th>Total Revenue</th>\n",
       "      <th>Customer Status</th>\n",
       "      <th>Churn Category</th>\n",
       "      <th>Churn Reason</th>\n",
       "      <th>State</th>\n",
       "      <th>Country</th>\n",
       "    </tr>\n",
       "  </thead>\n",
       "  <tbody>\n",
       "    <tr>\n",
       "      <th>0</th>\n",
       "      <td>0</td>\n",
       "      <td>0002-ORFBO</td>\n",
       "      <td>Female</td>\n",
       "      <td>37</td>\n",
       "      <td>Yes</td>\n",
       "      <td>0</td>\n",
       "      <td>Frazier Park</td>\n",
       "      <td>93225</td>\n",
       "      <td>34.827662</td>\n",
       "      <td>-118.999073</td>\n",
       "      <td>...</td>\n",
       "      <td>593.30</td>\n",
       "      <td>0.00</td>\n",
       "      <td>0</td>\n",
       "      <td>381.51</td>\n",
       "      <td>974.81</td>\n",
       "      <td>Stayed</td>\n",
       "      <td>Not Provided</td>\n",
       "      <td>Not Provided</td>\n",
       "      <td>California</td>\n",
       "      <td>United States</td>\n",
       "    </tr>\n",
       "    <tr>\n",
       "      <th>1</th>\n",
       "      <td>1</td>\n",
       "      <td>0003-MKNFE</td>\n",
       "      <td>Male</td>\n",
       "      <td>46</td>\n",
       "      <td>No</td>\n",
       "      <td>0</td>\n",
       "      <td>Glendale</td>\n",
       "      <td>91206</td>\n",
       "      <td>34.162515</td>\n",
       "      <td>-118.203869</td>\n",
       "      <td>...</td>\n",
       "      <td>542.40</td>\n",
       "      <td>38.33</td>\n",
       "      <td>10</td>\n",
       "      <td>96.21</td>\n",
       "      <td>610.28</td>\n",
       "      <td>Stayed</td>\n",
       "      <td>Not Provided</td>\n",
       "      <td>Not Provided</td>\n",
       "      <td>California</td>\n",
       "      <td>United States</td>\n",
       "    </tr>\n",
       "    <tr>\n",
       "      <th>2</th>\n",
       "      <td>2</td>\n",
       "      <td>0004-TLHLJ</td>\n",
       "      <td>Male</td>\n",
       "      <td>50</td>\n",
       "      <td>No</td>\n",
       "      <td>0</td>\n",
       "      <td>Costa Mesa</td>\n",
       "      <td>92627</td>\n",
       "      <td>33.645672</td>\n",
       "      <td>-117.922613</td>\n",
       "      <td>...</td>\n",
       "      <td>280.85</td>\n",
       "      <td>0.00</td>\n",
       "      <td>0</td>\n",
       "      <td>134.60</td>\n",
       "      <td>415.45</td>\n",
       "      <td>Churned</td>\n",
       "      <td>Competitor</td>\n",
       "      <td>Competitor had better devices</td>\n",
       "      <td>California</td>\n",
       "      <td>United States</td>\n",
       "    </tr>\n",
       "    <tr>\n",
       "      <th>3</th>\n",
       "      <td>3</td>\n",
       "      <td>0011-IGKFF</td>\n",
       "      <td>Male</td>\n",
       "      <td>78</td>\n",
       "      <td>Yes</td>\n",
       "      <td>0</td>\n",
       "      <td>Martinez</td>\n",
       "      <td>94553</td>\n",
       "      <td>38.014457</td>\n",
       "      <td>-122.115432</td>\n",
       "      <td>...</td>\n",
       "      <td>1237.85</td>\n",
       "      <td>0.00</td>\n",
       "      <td>0</td>\n",
       "      <td>361.66</td>\n",
       "      <td>1599.51</td>\n",
       "      <td>Churned</td>\n",
       "      <td>Dissatisfaction</td>\n",
       "      <td>Product dissatisfaction</td>\n",
       "      <td>California</td>\n",
       "      <td>United States</td>\n",
       "    </tr>\n",
       "    <tr>\n",
       "      <th>4</th>\n",
       "      <td>4</td>\n",
       "      <td>0013-EXCHZ</td>\n",
       "      <td>Female</td>\n",
       "      <td>75</td>\n",
       "      <td>Yes</td>\n",
       "      <td>0</td>\n",
       "      <td>Camarillo</td>\n",
       "      <td>93010</td>\n",
       "      <td>34.227846</td>\n",
       "      <td>-119.079903</td>\n",
       "      <td>...</td>\n",
       "      <td>267.40</td>\n",
       "      <td>0.00</td>\n",
       "      <td>0</td>\n",
       "      <td>22.14</td>\n",
       "      <td>289.54</td>\n",
       "      <td>Churned</td>\n",
       "      <td>Dissatisfaction</td>\n",
       "      <td>Network reliability</td>\n",
       "      <td>California</td>\n",
       "      <td>United States</td>\n",
       "    </tr>\n",
       "  </tbody>\n",
       "</table>\n",
       "<p>5 rows × 41 columns</p>\n",
       "</div>"
      ],
      "text/plain": [
       "   Unnamed: 0 Customer ID  Gender  Age Married  Number of Dependents  \\\n",
       "0           0  0002-ORFBO  Female   37     Yes                     0   \n",
       "1           1  0003-MKNFE    Male   46      No                     0   \n",
       "2           2  0004-TLHLJ    Male   50      No                     0   \n",
       "3           3  0011-IGKFF    Male   78     Yes                     0   \n",
       "4           4  0013-EXCHZ  Female   75     Yes                     0   \n",
       "\n",
       "           City  Zip Code   Latitude   Longitude  ...  Total Charges  \\\n",
       "0  Frazier Park     93225  34.827662 -118.999073  ...         593.30   \n",
       "1      Glendale     91206  34.162515 -118.203869  ...         542.40   \n",
       "2    Costa Mesa     92627  33.645672 -117.922613  ...         280.85   \n",
       "3      Martinez     94553  38.014457 -122.115432  ...        1237.85   \n",
       "4     Camarillo     93010  34.227846 -119.079903  ...         267.40   \n",
       "\n",
       "   Total Refunds Total Extra Data Charges Total Long Distance Charges  \\\n",
       "0           0.00                        0                      381.51   \n",
       "1          38.33                       10                       96.21   \n",
       "2           0.00                        0                      134.60   \n",
       "3           0.00                        0                      361.66   \n",
       "4           0.00                        0                       22.14   \n",
       "\n",
       "   Total Revenue Customer Status   Churn Category  \\\n",
       "0         974.81          Stayed     Not Provided   \n",
       "1         610.28          Stayed     Not Provided   \n",
       "2         415.45         Churned       Competitor   \n",
       "3        1599.51         Churned  Dissatisfaction   \n",
       "4         289.54         Churned  Dissatisfaction   \n",
       "\n",
       "                    Churn Reason       State        Country  \n",
       "0                   Not Provided  California  United States  \n",
       "1                   Not Provided  California  United States  \n",
       "2  Competitor had better devices  California  United States  \n",
       "3        Product dissatisfaction  California  United States  \n",
       "4            Network reliability  California  United States  \n",
       "\n",
       "[5 rows x 41 columns]"
      ]
     },
     "execution_count": 4,
     "metadata": {},
     "output_type": "execute_result"
    }
   ],
   "source": [
    "print('# of Rows: {} / # of Columns: {}'.format(df.shape[0], df.shape[1]))\n",
    "print('Columns are: '+ str(list(df.columns)))\n",
    "df.head()"
   ]
  },
  {
   "cell_type": "code",
   "execution_count": 17,
   "id": "89e5c192",
   "metadata": {},
   "outputs": [],
   "source": [
    "# encode Cutommer Status as numbers\n",
    "df['Customer Status N'] = pd.factorize(df['Customer Status'])[0]"
   ]
  },
  {
   "cell_type": "code",
   "execution_count": 21,
   "id": "0ee666ab",
   "metadata": {},
   "outputs": [
    {
     "data": {
      "text/plain": [
       "Customer Status  Customer Status N\n",
       "Stayed           0                    4720\n",
       "Churned          1                    1869\n",
       "Joined           2                     454\n",
       "dtype: int64"
      ]
     },
     "execution_count": 21,
     "metadata": {},
     "output_type": "execute_result"
    }
   ],
   "source": [
    "# number stayed, churned, joined as numbers\n",
    "df[['Customer Status','Customer Status N']].value_counts()"
   ]
  },
  {
   "cell_type": "code",
   "execution_count": 25,
   "id": "5f4adccf",
   "metadata": {},
   "outputs": [],
   "source": [
    "# drop unnamed: 0\n",
    "df.drop(columns = 'Unnamed: 0', inplace = True)"
   ]
  },
  {
   "cell_type": "code",
   "execution_count": 26,
   "id": "a92d68ce",
   "metadata": {},
   "outputs": [
    {
     "data": {
      "text/html": [
       "<div>\n",
       "<style scoped>\n",
       "    .dataframe tbody tr th:only-of-type {\n",
       "        vertical-align: middle;\n",
       "    }\n",
       "\n",
       "    .dataframe tbody tr th {\n",
       "        vertical-align: top;\n",
       "    }\n",
       "\n",
       "    .dataframe thead th {\n",
       "        text-align: right;\n",
       "    }\n",
       "</style>\n",
       "<table border=\"1\" class=\"dataframe\">\n",
       "  <thead>\n",
       "    <tr style=\"text-align: right;\">\n",
       "      <th></th>\n",
       "      <th>Age</th>\n",
       "      <th>Number of Dependents</th>\n",
       "      <th>Zip Code</th>\n",
       "      <th>Latitude</th>\n",
       "      <th>Longitude</th>\n",
       "      <th>Number of Referrals</th>\n",
       "      <th>Tenure in Months</th>\n",
       "      <th>Avg Monthly Long Distance Charges</th>\n",
       "      <th>Avg Monthly GB Download</th>\n",
       "      <th>Monthly Charge</th>\n",
       "      <th>Total Charges</th>\n",
       "      <th>Total Refunds</th>\n",
       "      <th>Total Extra Data Charges</th>\n",
       "      <th>Total Long Distance Charges</th>\n",
       "      <th>Total Revenue</th>\n",
       "      <th>Customer Status N</th>\n",
       "    </tr>\n",
       "  </thead>\n",
       "  <tbody>\n",
       "    <tr>\n",
       "      <th>count</th>\n",
       "      <td>7043.000000</td>\n",
       "      <td>7043.000000</td>\n",
       "      <td>7043.000000</td>\n",
       "      <td>7043.000000</td>\n",
       "      <td>7043.000000</td>\n",
       "      <td>7043.000000</td>\n",
       "      <td>7043.000000</td>\n",
       "      <td>7043.000000</td>\n",
       "      <td>7043.000000</td>\n",
       "      <td>7043.000000</td>\n",
       "      <td>7043.000000</td>\n",
       "      <td>7043.000000</td>\n",
       "      <td>7043.000000</td>\n",
       "      <td>7043.000000</td>\n",
       "      <td>7043.000000</td>\n",
       "      <td>7043.000000</td>\n",
       "    </tr>\n",
       "    <tr>\n",
       "      <th>mean</th>\n",
       "      <td>46.509726</td>\n",
       "      <td>0.468692</td>\n",
       "      <td>93486.070567</td>\n",
       "      <td>36.197455</td>\n",
       "      <td>-119.756684</td>\n",
       "      <td>1.951867</td>\n",
       "      <td>32.386767</td>\n",
       "      <td>25.446612</td>\n",
       "      <td>25.065455</td>\n",
       "      <td>63.596131</td>\n",
       "      <td>2280.381264</td>\n",
       "      <td>1.962182</td>\n",
       "      <td>6.860713</td>\n",
       "      <td>749.099262</td>\n",
       "      <td>3034.379056</td>\n",
       "      <td>0.394292</td>\n",
       "    </tr>\n",
       "    <tr>\n",
       "      <th>std</th>\n",
       "      <td>16.750352</td>\n",
       "      <td>0.962802</td>\n",
       "      <td>1856.767505</td>\n",
       "      <td>2.468929</td>\n",
       "      <td>2.154425</td>\n",
       "      <td>3.001199</td>\n",
       "      <td>24.542061</td>\n",
       "      <td>13.495466</td>\n",
       "      <td>17.466342</td>\n",
       "      <td>31.204743</td>\n",
       "      <td>2266.220462</td>\n",
       "      <td>7.902614</td>\n",
       "      <td>25.104978</td>\n",
       "      <td>846.660055</td>\n",
       "      <td>2865.204542</td>\n",
       "      <td>0.606466</td>\n",
       "    </tr>\n",
       "    <tr>\n",
       "      <th>min</th>\n",
       "      <td>19.000000</td>\n",
       "      <td>0.000000</td>\n",
       "      <td>90001.000000</td>\n",
       "      <td>32.555828</td>\n",
       "      <td>-124.301372</td>\n",
       "      <td>0.000000</td>\n",
       "      <td>1.000000</td>\n",
       "      <td>1.010000</td>\n",
       "      <td>2.000000</td>\n",
       "      <td>-10.000000</td>\n",
       "      <td>18.800000</td>\n",
       "      <td>0.000000</td>\n",
       "      <td>0.000000</td>\n",
       "      <td>0.000000</td>\n",
       "      <td>21.360000</td>\n",
       "      <td>0.000000</td>\n",
       "    </tr>\n",
       "    <tr>\n",
       "      <th>25%</th>\n",
       "      <td>32.000000</td>\n",
       "      <td>0.000000</td>\n",
       "      <td>92101.000000</td>\n",
       "      <td>33.990646</td>\n",
       "      <td>-121.788090</td>\n",
       "      <td>0.000000</td>\n",
       "      <td>9.000000</td>\n",
       "      <td>14.455000</td>\n",
       "      <td>15.000000</td>\n",
       "      <td>30.400000</td>\n",
       "      <td>400.150000</td>\n",
       "      <td>0.000000</td>\n",
       "      <td>0.000000</td>\n",
       "      <td>70.545000</td>\n",
       "      <td>605.610000</td>\n",
       "      <td>0.000000</td>\n",
       "    </tr>\n",
       "    <tr>\n",
       "      <th>50%</th>\n",
       "      <td>46.000000</td>\n",
       "      <td>0.000000</td>\n",
       "      <td>93518.000000</td>\n",
       "      <td>36.205465</td>\n",
       "      <td>-119.595293</td>\n",
       "      <td>0.000000</td>\n",
       "      <td>29.000000</td>\n",
       "      <td>25.690000</td>\n",
       "      <td>21.000000</td>\n",
       "      <td>70.050000</td>\n",
       "      <td>1394.550000</td>\n",
       "      <td>0.000000</td>\n",
       "      <td>0.000000</td>\n",
       "      <td>401.440000</td>\n",
       "      <td>2108.640000</td>\n",
       "      <td>0.000000</td>\n",
       "    </tr>\n",
       "    <tr>\n",
       "      <th>75%</th>\n",
       "      <td>60.000000</td>\n",
       "      <td>0.000000</td>\n",
       "      <td>95329.000000</td>\n",
       "      <td>38.161321</td>\n",
       "      <td>-117.969795</td>\n",
       "      <td>3.000000</td>\n",
       "      <td>55.000000</td>\n",
       "      <td>36.395000</td>\n",
       "      <td>27.000000</td>\n",
       "      <td>89.750000</td>\n",
       "      <td>3786.600000</td>\n",
       "      <td>0.000000</td>\n",
       "      <td>0.000000</td>\n",
       "      <td>1191.100000</td>\n",
       "      <td>4801.145000</td>\n",
       "      <td>1.000000</td>\n",
       "    </tr>\n",
       "    <tr>\n",
       "      <th>max</th>\n",
       "      <td>80.000000</td>\n",
       "      <td>9.000000</td>\n",
       "      <td>96150.000000</td>\n",
       "      <td>41.962127</td>\n",
       "      <td>-114.192901</td>\n",
       "      <td>11.000000</td>\n",
       "      <td>72.000000</td>\n",
       "      <td>49.990000</td>\n",
       "      <td>85.000000</td>\n",
       "      <td>118.750000</td>\n",
       "      <td>8684.800000</td>\n",
       "      <td>49.790000</td>\n",
       "      <td>150.000000</td>\n",
       "      <td>3564.720000</td>\n",
       "      <td>11979.340000</td>\n",
       "      <td>2.000000</td>\n",
       "    </tr>\n",
       "  </tbody>\n",
       "</table>\n",
       "</div>"
      ],
      "text/plain": [
       "               Age  Number of Dependents      Zip Code     Latitude  \\\n",
       "count  7043.000000           7043.000000   7043.000000  7043.000000   \n",
       "mean     46.509726              0.468692  93486.070567    36.197455   \n",
       "std      16.750352              0.962802   1856.767505     2.468929   \n",
       "min      19.000000              0.000000  90001.000000    32.555828   \n",
       "25%      32.000000              0.000000  92101.000000    33.990646   \n",
       "50%      46.000000              0.000000  93518.000000    36.205465   \n",
       "75%      60.000000              0.000000  95329.000000    38.161321   \n",
       "max      80.000000              9.000000  96150.000000    41.962127   \n",
       "\n",
       "         Longitude  Number of Referrals  Tenure in Months  \\\n",
       "count  7043.000000          7043.000000       7043.000000   \n",
       "mean   -119.756684             1.951867         32.386767   \n",
       "std       2.154425             3.001199         24.542061   \n",
       "min    -124.301372             0.000000          1.000000   \n",
       "25%    -121.788090             0.000000          9.000000   \n",
       "50%    -119.595293             0.000000         29.000000   \n",
       "75%    -117.969795             3.000000         55.000000   \n",
       "max    -114.192901            11.000000         72.000000   \n",
       "\n",
       "       Avg Monthly Long Distance Charges  Avg Monthly GB Download  \\\n",
       "count                        7043.000000              7043.000000   \n",
       "mean                           25.446612                25.065455   \n",
       "std                            13.495466                17.466342   \n",
       "min                             1.010000                 2.000000   \n",
       "25%                            14.455000                15.000000   \n",
       "50%                            25.690000                21.000000   \n",
       "75%                            36.395000                27.000000   \n",
       "max                            49.990000                85.000000   \n",
       "\n",
       "       Monthly Charge  Total Charges  Total Refunds  Total Extra Data Charges  \\\n",
       "count     7043.000000    7043.000000    7043.000000               7043.000000   \n",
       "mean        63.596131    2280.381264       1.962182                  6.860713   \n",
       "std         31.204743    2266.220462       7.902614                 25.104978   \n",
       "min        -10.000000      18.800000       0.000000                  0.000000   \n",
       "25%         30.400000     400.150000       0.000000                  0.000000   \n",
       "50%         70.050000    1394.550000       0.000000                  0.000000   \n",
       "75%         89.750000    3786.600000       0.000000                  0.000000   \n",
       "max        118.750000    8684.800000      49.790000                150.000000   \n",
       "\n",
       "       Total Long Distance Charges  Total Revenue  Customer Status N  \n",
       "count                  7043.000000    7043.000000        7043.000000  \n",
       "mean                    749.099262    3034.379056           0.394292  \n",
       "std                     846.660055    2865.204542           0.606466  \n",
       "min                       0.000000      21.360000           0.000000  \n",
       "25%                      70.545000     605.610000           0.000000  \n",
       "50%                     401.440000    2108.640000           0.000000  \n",
       "75%                    1191.100000    4801.145000           1.000000  \n",
       "max                    3564.720000   11979.340000           2.000000  "
      ]
     },
     "execution_count": 26,
     "metadata": {},
     "output_type": "execute_result"
    }
   ],
   "source": [
    "df.describe()"
   ]
  },
  {
   "cell_type": "code",
   "execution_count": 32,
   "id": "5c4ca5c1",
   "metadata": {},
   "outputs": [
    {
     "data": {
      "text/plain": [
       "<AxesSubplot:xlabel='Total Charges', ylabel='Count'>"
      ]
     },
     "execution_count": 32,
     "metadata": {},
     "output_type": "execute_result"
    },
    {
     "data": {
      "image/png": "[encoded data removed]",
      "text/plain": [
       "<Figure size 432x288 with 1 Axes>"
      ]
     },
     "metadata": {
      "needs_background": "light"
     },
     "output_type": "display_data"
    }
   ],
   "source": [
    "# Extreme values check\n",
    "sns.histplot(df['Total Charges'], bins =25,kde=True)"
   ]
  },
  {
   "cell_type": "code",
   "execution_count": 34,
   "id": "42650f0e",
   "metadata": {},
   "outputs": [
    {
     "data": {
      "text/plain": [
       "<AxesSubplot:>"
      ]
     },
     "execution_count": 34,
     "metadata": {},
     "output_type": "execute_result"
    },
    {
     "data": {
      "image/png": "[encoded data removed]",
      "text/plain": [
       "<Figure size 432x288 with 1 Axes>"
      ]
     },
     "metadata": {
      "needs_background": "light"
     },
     "output_type": "display_data"
    }
   ],
   "source": [
    "sns.boxplot(data=df['Total Charges'])"
   ]
  },
  {
   "cell_type": "markdown",
   "id": "67355508",
   "metadata": {},
   "source": [
    "# 2. Data prep for regression analysis"
   ]
  },
  {
   "cell_type": "code",
   "execution_count": 74,
   "id": "a689403d",
   "metadata": {},
   "outputs": [
    {
     "data": {
      "image/png": "[encoded data removed]",
      "text/plain": [
       "<Figure size 432x288 with 1 Axes>"
      ]
     },
     "metadata": {
      "needs_background": "light"
     },
     "output_type": "display_data"
    }
   ],
   "source": [
    "# Create a scatterplot using matplotlib for another look at how the chosen variables plot against each other.\n",
    "\n",
    "df.plot(x = 'Tenure in Months', y='Total Charges',style='o') # The style option creates a scatterplot; without it, we only have lines.\n",
    "plt.title('Tenure in Months vs Total Charges')  \n",
    "plt.xlabel('Tenure in Months')  \n",
    "plt.ylabel('Total Charges')  \n",
    "plt.show()"
   ]
  },
  {
   "cell_type": "code",
   "execution_count": 47,
   "id": "c53006b7",
   "metadata": {},
   "outputs": [],
   "source": [
    "# Reshape the variables into NumPy arrays and put them into separate objects.\n",
    "\n",
    "X = df['Tenure in Months'].values.reshape(-1,1)\n",
    "y = df['Total Charges'].values.reshape(-1,1)"
   ]
  },
  {
   "cell_type": "code",
   "execution_count": 48,
   "id": "8bfb9df4",
   "metadata": {},
   "outputs": [
    {
     "data": {
      "text/plain": [
       "array([[ 9],\n",
       "       [ 9],\n",
       "       [ 4],\n",
       "       ...,\n",
       "       [ 2],\n",
       "       [67],\n",
       "       [63]], dtype=int64)"
      ]
     },
     "execution_count": 48,
     "metadata": {},
     "output_type": "execute_result"
    }
   ],
   "source": [
    "X"
   ]
  },
  {
   "cell_type": "code",
   "execution_count": 49,
   "id": "24e5045e",
   "metadata": {},
   "outputs": [
    {
     "data": {
      "text/plain": [
       "array([[ 593.3 ],\n",
       "       [ 542.4 ],\n",
       "       [ 280.85],\n",
       "       ...,\n",
       "       [  92.75],\n",
       "       [4627.65],\n",
       "       [3707.6 ]])"
      ]
     },
     "execution_count": 49,
     "metadata": {},
     "output_type": "execute_result"
    }
   ],
   "source": [
    "y"
   ]
  },
  {
   "cell_type": "code",
   "execution_count": 50,
   "id": "72878aa2",
   "metadata": {},
   "outputs": [],
   "source": [
    "#  split each variable into a training and test set \n",
    "X_train, X_test, y_train, y_test = train_test_split(X,y,test_size = 0.3, random_state =0)"
   ]
  },
  {
   "cell_type": "markdown",
   "id": "f8e9559c",
   "metadata": {},
   "source": [
    "# 4. Regression Analysis"
   ]
  },
  {
   "cell_type": "code",
   "execution_count": 51,
   "id": "deb133bb",
   "metadata": {},
   "outputs": [],
   "source": [
    "# Create a regression object\n",
    "regression = LinearRegression()"
   ]
  },
  {
   "cell_type": "code",
   "execution_count": 52,
   "id": "2fb8d75e",
   "metadata": {},
   "outputs": [
    {
     "data": {
      "text/plain": [
       "LinearRegression()"
      ]
     },
     "execution_count": 52,
     "metadata": {},
     "output_type": "execute_result"
    }
   ],
   "source": [
    "# Fit the regression object to the train set\n",
    "regression.fit(X_train, y_train)"
   ]
  },
  {
   "cell_type": "code",
   "execution_count": 53,
   "id": "70149f05",
   "metadata": {},
   "outputs": [],
   "source": [
    "# Predict the values of y using X\n",
    "y_predicted = regression.predict(X_test)"
   ]
  },
  {
   "cell_type": "code",
   "execution_count": 66,
   "id": "d4453566",
   "metadata": {},
   "outputs": [
    {
     "data": {
      "image/png": "[encoded data removed]",
      "text/plain": [
       "<Figure size 432x288 with 1 Axes>"
      ]
     },
     "metadata": {
      "needs_background": "light"
     },
     "output_type": "display_data"
    }
   ],
   "source": [
    "# Create a plot that shows the regression line from the model on the test set.\n",
    "\n",
    "plot_test = plt\n",
    "plot_test.scatter(X_test, y_test, color='gray', s = 15)\n",
    "plot_test.plot(X_test, y_predicted, color='red', linewidth =3)\n",
    "plot_test.title('Tenure in Months vs Total Charges')  \n",
    "plot_test.xlabel('Tenure in Months')\n",
    "plot_test.ylabel('Total Charges')\n",
    "plot_test.show()"
   ]
  },
  {
   "cell_type": "code",
   "execution_count": 56,
   "id": "b1c84c3d",
   "metadata": {},
   "outputs": [],
   "source": [
    "# Create objects that contain the model summary statistics.\n",
    "\n",
    "rmse = mean_squared_error(y_test, y_predicted) # This is the mean squared error\n",
    "r2 = r2_score(y_test, y_predicted) # This is the R2 score. "
   ]
  },
  {
   "cell_type": "code",
   "execution_count": 57,
   "id": "265cf469",
   "metadata": {},
   "outputs": [
    {
     "name": "stdout",
     "output_type": "stream",
     "text": [
      "Slope: [[75.63226944]]\n",
      "Mean squared error:  1612807.8364070044\n",
      "R2 score:  0.6930021154260455\n"
     ]
    }
   ],
   "source": [
    "# Print the model summary statistics. This is where you evaluate the performance of the model.\n",
    "\n",
    "print('Slope:' ,regression.coef_)\n",
    "print('Mean squared error: ', rmse)\n",
    "print('R2 score: ', r2)"
   ]
  },
  {
   "cell_type": "markdown",
   "id": "bceec795",
   "metadata": {},
   "source": [
    "##### Summary of Regression Analysis\n",
    "Slope: As tenure in months increases, total charges is increasing at a rate of ~75\n",
    "\n",
    "Mean squared error: This is an extremely high value. This means that that the regression line is farther away from the data points. As a result, the regression line is not an accurate representation of the data.\n",
    "\n",
    "R2 score: Model does not explain variance in data well either at a value of 0.69.\n"
   ]
  },
  {
   "cell_type": "code",
   "execution_count": 58,
   "id": "bcf39449",
   "metadata": {},
   "outputs": [
    {
     "data": {
      "text/plain": [
       "array([[3375.99231374],\n",
       "       [-103.09208052],\n",
       "       [3149.09550542],\n",
       "       ...,\n",
       "       [4056.6827387 ],\n",
       "       [2090.24373325],\n",
       "       [5266.79904975]])"
      ]
     },
     "execution_count": 58,
     "metadata": {},
     "output_type": "execute_result"
    }
   ],
   "source": [
    "y_predicted"
   ]
  },
  {
   "cell_type": "code",
   "execution_count": 59,
   "id": "161b1267",
   "metadata": {},
   "outputs": [
    {
     "data": {
      "text/html": [
       "<div>\n",
       "<style scoped>\n",
       "    .dataframe tbody tr th:only-of-type {\n",
       "        vertical-align: middle;\n",
       "    }\n",
       "\n",
       "    .dataframe tbody tr th {\n",
       "        vertical-align: top;\n",
       "    }\n",
       "\n",
       "    .dataframe thead th {\n",
       "        text-align: right;\n",
       "    }\n",
       "</style>\n",
       "<table border=\"1\" class=\"dataframe\">\n",
       "  <thead>\n",
       "    <tr style=\"text-align: right;\">\n",
       "      <th></th>\n",
       "      <th>Actual</th>\n",
       "      <th>Predicted</th>\n",
       "    </tr>\n",
       "  </thead>\n",
       "  <tbody>\n",
       "    <tr>\n",
       "      <th>0</th>\n",
       "      <td>4137.20</td>\n",
       "      <td>3375.992314</td>\n",
       "    </tr>\n",
       "    <tr>\n",
       "      <th>1</th>\n",
       "      <td>93.30</td>\n",
       "      <td>-103.092081</td>\n",
       "    </tr>\n",
       "    <tr>\n",
       "      <th>2</th>\n",
       "      <td>905.55</td>\n",
       "      <td>3149.095505</td>\n",
       "    </tr>\n",
       "    <tr>\n",
       "      <th>3</th>\n",
       "      <td>1551.60</td>\n",
       "      <td>4434.844086</td>\n",
       "    </tr>\n",
       "    <tr>\n",
       "      <th>4</th>\n",
       "      <td>2651.20</td>\n",
       "      <td>3451.624583</td>\n",
       "    </tr>\n",
       "    <tr>\n",
       "      <th>5</th>\n",
       "      <td>609.10</td>\n",
       "      <td>2165.876003</td>\n",
       "    </tr>\n",
       "    <tr>\n",
       "      <th>6</th>\n",
       "      <td>4116.15</td>\n",
       "      <td>3602.889122</td>\n",
       "    </tr>\n",
       "    <tr>\n",
       "      <th>7</th>\n",
       "      <td>1337.50</td>\n",
       "      <td>5039.902241</td>\n",
       "    </tr>\n",
       "    <tr>\n",
       "      <th>8</th>\n",
       "      <td>2224.50</td>\n",
       "      <td>2770.934158</td>\n",
       "    </tr>\n",
       "    <tr>\n",
       "      <th>9</th>\n",
       "      <td>1461.15</td>\n",
       "      <td>1031.391961</td>\n",
       "    </tr>\n",
       "    <tr>\n",
       "      <th>10</th>\n",
       "      <td>6733.15</td>\n",
       "      <td>4888.637703</td>\n",
       "    </tr>\n",
       "    <tr>\n",
       "      <th>11</th>\n",
       "      <td>3409.10</td>\n",
       "      <td>3905.418200</td>\n",
       "    </tr>\n",
       "    <tr>\n",
       "      <th>12</th>\n",
       "      <td>233.70</td>\n",
       "      <td>48.172458</td>\n",
       "    </tr>\n",
       "    <tr>\n",
       "      <th>13</th>\n",
       "      <td>1031.40</td>\n",
       "      <td>1485.185578</td>\n",
       "    </tr>\n",
       "    <tr>\n",
       "      <th>14</th>\n",
       "      <td>973.35</td>\n",
       "      <td>3527.256853</td>\n",
       "    </tr>\n",
       "    <tr>\n",
       "      <th>15</th>\n",
       "      <td>235.05</td>\n",
       "      <td>48.172458</td>\n",
       "    </tr>\n",
       "    <tr>\n",
       "      <th>16</th>\n",
       "      <td>3431.75</td>\n",
       "      <td>4888.637703</td>\n",
       "    </tr>\n",
       "    <tr>\n",
       "      <th>17</th>\n",
       "      <td>794.25</td>\n",
       "      <td>577.598344</td>\n",
       "    </tr>\n",
       "    <tr>\n",
       "      <th>18</th>\n",
       "      <td>3930.60</td>\n",
       "      <td>2997.830967</td>\n",
       "    </tr>\n",
       "    <tr>\n",
       "      <th>19</th>\n",
       "      <td>6325.25</td>\n",
       "      <td>5191.166780</td>\n",
       "    </tr>\n",
       "    <tr>\n",
       "      <th>20</th>\n",
       "      <td>78.65</td>\n",
       "      <td>-27.459811</td>\n",
       "    </tr>\n",
       "    <tr>\n",
       "      <th>21</th>\n",
       "      <td>7240.65</td>\n",
       "      <td>5039.902241</td>\n",
       "    </tr>\n",
       "    <tr>\n",
       "      <th>22</th>\n",
       "      <td>2398.40</td>\n",
       "      <td>3527.256853</td>\n",
       "    </tr>\n",
       "    <tr>\n",
       "      <th>23</th>\n",
       "      <td>2871.50</td>\n",
       "      <td>2241.508272</td>\n",
       "    </tr>\n",
       "    <tr>\n",
       "      <th>24</th>\n",
       "      <td>4868.40</td>\n",
       "      <td>4888.637703</td>\n",
       "    </tr>\n",
       "    <tr>\n",
       "      <th>25</th>\n",
       "      <td>79.65</td>\n",
       "      <td>-103.092081</td>\n",
       "    </tr>\n",
       "    <tr>\n",
       "      <th>26</th>\n",
       "      <td>3116.15</td>\n",
       "      <td>4283.579547</td>\n",
       "    </tr>\n",
       "    <tr>\n",
       "      <th>27</th>\n",
       "      <td>153.95</td>\n",
       "      <td>426.333806</td>\n",
       "    </tr>\n",
       "    <tr>\n",
       "      <th>28</th>\n",
       "      <td>20.30</td>\n",
       "      <td>-103.092081</td>\n",
       "    </tr>\n",
       "    <tr>\n",
       "      <th>29</th>\n",
       "      <td>1237.65</td>\n",
       "      <td>4586.108625</td>\n",
       "    </tr>\n",
       "  </tbody>\n",
       "</table>\n",
       "</div>"
      ],
      "text/plain": [
       "     Actual    Predicted\n",
       "0   4137.20  3375.992314\n",
       "1     93.30  -103.092081\n",
       "2    905.55  3149.095505\n",
       "3   1551.60  4434.844086\n",
       "4   2651.20  3451.624583\n",
       "5    609.10  2165.876003\n",
       "6   4116.15  3602.889122\n",
       "7   1337.50  5039.902241\n",
       "8   2224.50  2770.934158\n",
       "9   1461.15  1031.391961\n",
       "10  6733.15  4888.637703\n",
       "11  3409.10  3905.418200\n",
       "12   233.70    48.172458\n",
       "13  1031.40  1485.185578\n",
       "14   973.35  3527.256853\n",
       "15   235.05    48.172458\n",
       "16  3431.75  4888.637703\n",
       "17   794.25   577.598344\n",
       "18  3930.60  2997.830967\n",
       "19  6325.25  5191.166780\n",
       "20    78.65   -27.459811\n",
       "21  7240.65  5039.902241\n",
       "22  2398.40  3527.256853\n",
       "23  2871.50  2241.508272\n",
       "24  4868.40  4888.637703\n",
       "25    79.65  -103.092081\n",
       "26  3116.15  4283.579547\n",
       "27   153.95   426.333806\n",
       "28    20.30  -103.092081\n",
       "29  1237.65  4586.108625"
      ]
     },
     "execution_count": 59,
     "metadata": {},
     "output_type": "execute_result"
    }
   ],
   "source": [
    "# Create a dataframe comparing the actual and predicted values of y.\n",
    "# By comparing the actual values from the predicted values manually using nothing but your eyes\n",
    "# you can see for yourself how far off or close the model is.\n",
    "\n",
    "data = pd.DataFrame({'Actual': y_test.flatten(), 'Predicted': y_predicted.flatten()})\n",
    "data.head(30)"
   ]
  },
  {
   "cell_type": "markdown",
   "id": "feb40f05",
   "metadata": {},
   "source": [
    "#### Compare how the regression fits the training set"
   ]
  },
  {
   "cell_type": "code",
   "execution_count": 60,
   "id": "e76ea8cb",
   "metadata": {},
   "outputs": [],
   "source": [
    "# Predict.\n",
    "\n",
    "y_predicted_train = regression.predict(X_train)"
   ]
  },
  {
   "cell_type": "code",
   "execution_count": 61,
   "id": "16befa27",
   "metadata": {},
   "outputs": [],
   "source": [
    "rmse = mean_squared_error(y_train, y_predicted_train)\n",
    "r2 = r2_score(y_train, y_predicted_train)"
   ]
  },
  {
   "cell_type": "code",
   "execution_count": 62,
   "id": "d01fcbf9",
   "metadata": {},
   "outputs": [
    {
     "name": "stdout",
     "output_type": "stream",
     "text": [
      "Slope: [[75.63226944]]\n",
      "Mean squared error:  1639143.6018371913\n",
      "R2 score:  0.6775905231876608\n"
     ]
    }
   ],
   "source": [
    "print('Slope:' ,regression.coef_)\n",
    "print('Mean squared error: ', rmse)\n",
    "print('R2 score: ', r2)"
   ]
  },
  {
   "cell_type": "code",
   "execution_count": 67,
   "id": "90c6766f",
   "metadata": {},
   "outputs": [
    {
     "data": {
      "image/png": "[encoded data removed]",
      "text/plain": [
       "<Figure size 432x288 with 1 Axes>"
      ]
     },
     "metadata": {
      "needs_background": "light"
     },
     "output_type": "display_data"
    }
   ],
   "source": [
    "# Visualizing the training set results.\n",
    "\n",
    "plot_test = plt\n",
    "plot_test.scatter(X_train, y_train, color='green', s = 15)\n",
    "plot_test.plot(X_train, y_predicted_train, color='red', linewidth =3)\n",
    "plot_test.title('Tenure in Months vs Total Charges')  \n",
    "plot_test.xlabel('Tenure in Months')\n",
    "plot_test.ylabel('Total Charges')\n",
    "plot_test.show()"
   ]
  },
  {
   "cell_type": "markdown",
   "id": "7df3b887",
   "metadata": {},
   "source": [
    "Summary of Regression Analysis\n",
    "Slope: As tenure in months increases, total charges is increasing at a rate of ~75\n",
    "\n",
    "Mean squared error: This is an extremely high value. This means that that the regression line is farther away from the data points. As a result, the regression line is not an accurate representation of the data.\n",
    "\n",
    "R2 score: Model does not explain variance in data well either at a value of 0.67.\n",
    "\n",
    "Overall, model is not a great fit for data based on model summary statistics. This is also clearly seen when looking at Actual vs. predicted."
   ]
  }
 ],
 "metadata": {
  "kernelspec": {
   "display_name": "Python 3 (ipykernel)",
   "language": "python",
   "name": "python3"
  },
  "language_info": {
   "codemirror_mode": {
    "name": "ipython",
    "version": 3
   },
   "file_extension": ".py",
   "mimetype": "text/x-python",
   "name": "python",
   "nbconvert_exporter": "python",
   "pygments_lexer": "ipython3",
   "version": "3.9.12"
  }
 },
 "nbformat": 4,
 "nbformat_minor": 5
}
